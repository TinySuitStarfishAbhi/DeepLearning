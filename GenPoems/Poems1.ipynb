{
 "cells": [
  {
   "cell_type": "code",
   "execution_count": 1,
   "metadata": {},
   "outputs": [
    {
     "name": "stderr",
     "output_type": "stream",
     "text": [
      "C:\\Users\\Abhishek Mohanty\\Anaconda3\\lib\\site-packages\\h5py\\__init__.py:36: FutureWarning: Conversion of the second argument of issubdtype from `float` to `np.floating` is deprecated. In future, it will be treated as `np.float64 == np.dtype(float).type`.\n",
      "  from ._conv import register_converters as _register_converters\n"
     ]
    }
   ],
   "source": [
    "import numpy as np\n",
    "import tensorflow as tf"
   ]
  },
  {
   "cell_type": "code",
   "execution_count": 2,
   "metadata": {},
   "outputs": [],
   "source": [
    "from tensorflow.keras.preprocessing.sequence import pad_sequences\n",
    "from tensorflow.keras.layers import Embedding, LSTM, Dense, Bidirectional\n",
    "from tensorflow.keras.preprocessing.text import Tokenizer\n",
    "from tensorflow.keras.models import Sequential\n",
    "from tensorflow.keras.optimizers import Adam"
   ]
  },
  {
   "cell_type": "code",
   "execution_count": 3,
   "metadata": {},
   "outputs": [],
   "source": [
    "tokenizer = Tokenizer()\n",
    "data = open('Collections.txt').read()\n",
    "corpus = data.lower().split(\"\\n\")"
   ]
  },
  {
   "cell_type": "code",
   "execution_count": 4,
   "metadata": {},
   "outputs": [
    {
     "name": "stdout",
     "output_type": "stream",
     "text": [
      "{'i': 1, 'the': 2, 'and': 3, 'love': 4, 'you': 5, 'a': 6, 'to': 7, 'my': 8, 'of': 9, 'your': 10, 'in': 11, 'me': 12, 'is': 13, 'that': 14, 'for': 15, 'with': 16, 'as': 17, 'be': 18, 'will': 19, 'not': 20, 'when': 21, 'her': 22, 'if': 23, 'thee': 24, 'heart': 25, 'or': 26, 'eyes': 27, 'one': 28, 'but': 29, 'without': 30, 'are': 31, 'we': 32, 'so': 33, 'it': 34, 'on': 35, 'can': 36, 'all': 37, 'at': 38, 'by': 39, 'more': 40, \"can't\": 41, 'have': 42, 'from': 43, 'she': 44, 'like': 45, 'feeling': 46, 'see': 47, 'do': 48, 'which': 49, 'than': 50, 'am': 51, 'life': 52, 'only': 53, 'this': 54, 'want': 55, 'they': 56, 'no': 57, 'still': 58, 'would': 59, 'who': 60, 'through': 61, 'shall': 62, 'death': 63, 'how': 64, 'beauty': 65, \"i'll\": 66, 'thou': 67, 'upon': 68, 'look': 69, 'just': 70, 'their': 71, 'mine': 72, 'face': 73, 'now': 74, 'never': 75, 'was': 76, 'know': 77, \"you're\": 78, 'red': 79, 'sun': 80, 'there': 81, 'let': 82, 'light': 83, 'last': 84, 'always': 85, 'has': 86, 'white': 87, 'two': 88, 'wanna': 89, 'imagine': 90, 'that’s': 91, 'leave': 92, 'lost': 93, 'day': 94, 'where': 95, 'arms': 96, 'whole': 97, 'little': 98, 'us': 99, 'each': 100, 'once': 101, 'ridiculous': 102, 'flower': 103, 'think': 104, \"i'd\": 105, 'into': 106, 'because': 107, 'fair': 108, 'deep': 109, 'dear': 110, 'its': 111, 'breath': 112, 'yet': 113, 'loving': 114, 'truth': 115, 'may': 116, 'true': 117, 'thought': 118, 'fire': 119, 'long': 120, 'great': 121, 'suddenly': 122, 'letters': 123, 'while': 124, 'were': 125, 'feel': 126, 'live': 127, 'soul': 128, 'out': 129, 'every': 130, 'tell': 131, 'hold': 132, 'close': 133, 'our': 134, 'world': 135, 'warm': 136, 'cold': 137, 'nor': 138, 'body': 139, 'too': 140, 'slay': 141, 'shakes': 142, 'serene': 143, 'wound': 144, 'moment': 145, 'till': 146, 'come': 147, 'bright': 148, 'night': 149, 'sweet': 150, 'thine': 151, 'much': 152, 'grace': 153, 'put': 154, 'lose': 155, 'skies': 156, 'past': 157, 'them': 158, 'up': 159, 'fear': 160, 'time': 161, 'wonder': 162, 'mouth': 163, 'go': 164, 'whatever': 165, 'sky': 166, 'his': 167, 'hair': 168, 'away': 169, 'sea': 170, 'wind': 171, 'what': 172, 'other': 173, 'hates': 174, 'those': 175, 'take': 176, 'things': 177, 'i’d': 178, 'dawn': 179, 'touch': 180, 'forever': 181, 'smile': 182, 'rose': 183, 'again': 184, 'snow': 185, 'ever': 186, 'kiss': 187, 'might': 188, 'change': 189, 'hope': 190, 'could': 191, 'back': 192, 'ways': 193, 'passion': 194, 'tears': 195, 'after': 196, 'meet': 197, 'heaven': 198, 'thoughts': 199, 'hour': 200, 'fate': 201, 'die': 202, 'beautiful': 203, 'both': 204, 'must': 205, 'loves': 206, 'carry': 207, 'here': 208, 'hath': 209, 'except': 210, 'yours': 211, 'find': 212, 'hot': 213, 'then': 214, 'any': 215, 'an': 216, 'high': 217, 'straight': 218, 'quick': 219, 'keen': 220, 'word': 221, 'don’t': 222, 'looking': 223, 'hands': 224, 'nothing': 225, 'earth': 226, 'purple': 227, 'feet': 228, 'figure': 229, 'art': 230, 'dry': 231, 'run': 232, 'eternal': 233, 'pure': 234, 'new': 235, 'soft': 236, 'awake': 237, 'hear': 238, 'tender': 239, 'wine': 240, 'doth': 241, 'late': 242, 'count': 243, 'being': 244, 'most': 245, 'candle': 246, 'freely': 247, 'men': 248, 'right': 249, 'turn': 250, 'smiles': 251, 'better': 252, 'walks': 253, 'cloudless': 254, 'best': 255, 'shade': 256, 'less': 257, 'place': 258, 'brow': 259, 'calm': 260, 'win': 261, 'mind': 262, 'seek': 263, 'winter': 264, 'left': 265, 'years': 266, 'eye': 267, 'stars': 268, 'desire': 269, 'did': 270, 'care': 271, 'embrace': 272, 'give': 273, 'young': 274, 'pale': 275, 'above': 276, 'lives': 277, 'compare': 278, 'thy': 279, 'loved': 280, 'dream': 281, 'worlds': 282, 'such': 283, 'you’re': 284, 'hurt': 285, 'seen': 286, 'today': 287, 'feelings': 288, 'does': 289, 'about': 290, 'sometimes': 291, 'far': 292, 'head': 293, 'cheeks': 294, 'well': 295, 'talk': 296, 'around': 297, 'even': 298, 'voice': 299, 'been': 300, 'window': 301, 'near': 302, 'everything': 303, 'own': 304, 'breeze': 305, 'believe': 306, 'share': 307, 'blue': 308, \"i'm\": 309, 'first': 310, 'hand': 311, 'break': 312, 'way': 313, 'whiteness': 314, 'clay': 315, 'eat': 316, \"love's\": 317, 'seas': 318, 'gang': 319, 'fare': 320, 'weel': 321, 'thousand': 322, 'star': 323, 'steadfast': 324, 'watching': 325, 'apart': 326, 'nature’s': 327, 'waters': 328, 'gazing': 329, 'love’s': 330, 'fall': 331, 'unrest': 332, 'drink': 333, 'rosy': 334, 'breathe': 335, 'since': 336, 'grows': 337, 'swear': 338, 'itself': 339, 'depth': 340, 'breadth': 341, 'height': 342, 'reach': 343, 'sight': 344, 'ends': 345, 'ideal': 346, 'level': 347, 'day’s': 348, 'quiet': 349, 'need': 350, 'strive': 351, 'purely': 352, 'praise': 353, 'use': 354, 'old': 355, 'griefs': 356, 'childhood’s': 357, 'faith': 358, 'seemed': 359, 'saints': 360, 'god': 361, 'choose': 362, 'dark': 363, 'ray': 364, 'half': 365, 'o’er': 366, 'cheek': 367, 'glow': 368, 'days': 369, 'goodness': 370, 'below': 371, 'summer': 372, 'shine': 373, 'autumn': 374, 'though': 375, 'came': 376, 'souls': 377, 'keep': 378, 'unkind': 379, 'flame': 380, 'destiny': 381, 'desperate': 382, 'anywhere': 383, 'darling': 384, 'moon': 385, 'sing': 386, 'deepest': 387, 'nobody': 388, 'root': 389, 'bud': 390, 'tree': 391, 'longer': 392, 'reason': 393, 'mad': 394, 'evermore': 395, 'black': 396, 'lips': 397, 'wet': 398, 'wild': 399, 'lies': 400, 'lit': 401, 'gives': 402, 'say': 403, 'although': 404, 'blind': 405, 'tempest': 406, 'summer’s': 407, 'lovely': 408, 'rough': 409, 'short': 410, 'sometime': 411, 'shines': 412, 'gold': 413, 'changing': 414, 'course': 415, 'fade': 416, 'pleasures': 417, '’twas': 418, 'watch': 419, 'another': 420, 'gone': 421, 'dies': 422, 'equally': 423, 'none': 424, 'bore': 425, 'needs': 426, 'heal': 427, 'injury': 428, 'clean—': 429, 'faithfully': 430, 'queen': 431, 'also': 432, 'wrote': 433, 'words': 434, 'along': 435, 'coffee': 436, 'sail': 437, 'electric': 438, 'devotion': 439, 'ocean': 440, 'together': 441, 'same': 442, 'chase': 443, 'tower': 444, 'make': 445, 'weight': 446, 'offer': 447, 'is…': 448, 'delights': 449, 'music': 450, 'pink': 451, 'free': 452, 'breasts': 453, 'wires': 454, 'roses': 455, 'some': 456, 'mistress': 457, 'saw': 458, 'wanting': 459, 'pain': 460, 'stay': 461, 'bed': 462, 'pictures': 463, 'beat': 464, 'thank': 465, 'thing': 466, 'carries': 467, 'exists': 468, 'stop': 469, 'forget': 470, 'forgotten': 471, 'passes': 472, 'roots': 473, 'off': 474, 'ah': 475, 'beloved': 476, \"there's\": 477, 'growing': 478, 'inside': 479, 'pretty': 480, \"that's\": 481, 'unlike': 482, 'really': 483, \"'cause\": 484, 'man': 485, 'gossamer': 486, 'wings': 487, 'made': 488, 'ease': 489, \"don't\": 490, 'cloud': 491, 'waist': 492, 'girl': 493, \"it's\": 494, 'dreams': 495, 'tight': 496, 'angel': 497, 'wish': 498, 'story': 499, 'end': 500, 'field': 501, 'stem': 502, 'until': 503, 'single': 504, 'searches': 505, 'neck': 506, 'leads': 507, 'pose': 508, 'neither': 509, 'steps': 510, 'hard': 511, 'pieces': 512, 'measure': 513, 'hunger': 514, 'skin': 515, 'pass': 516, 'waiting': 517, 'sake': 518, 'collections': 519, 'poems': 520, 'newly': 521, 'sprung': 522, 'june': 523, 'melody': 524, 'sweetly': 525, 'played': 526, 'tune': 527, 'bonnie': 528, 'lass': 529, 'a‘': 530, 'a’': 531, 'rocks': 532, 'melt': 533, 'wi‘': 534, 'sands': 535, 'o’': 536, 'thou‘': 537, 'ten': 538, 'mile': 539, 'art—': 540, 'lone': 541, 'splendour': 542, 'hung': 543, 'aloft': 544, 'lids': 545, 'patient': 546, 'sleepless': 547, 'eremite': 548, 'moving': 549, 'priestlike': 550, 'task': 551, 'ablution': 552, 'round': 553, 'earth’s': 554, 'human': 555, 'shores': 556, 'fallen': 557, 'mask': 558, 'mountains': 559, 'moors—': 560, 'no—yet': 561, 'unchangeable': 562, 'pillow’d': 563, 'ripening': 564, 'breast': 565, 'swell': 566, 'taken': 567, 'ever—or': 568, 'else': 569, 'swoon': 570, 'pledge': 571, 'cup': 572, 'i’ll': 573, 'thirst': 574, 'rise': 575, 'ask': 576, 'divine': 577, 'jove’s': 578, 'nectar': 579, 'sup': 580, 'sent': 581, 'wreath': 582, 'hon’ring': 583, 'giving': 584, 'withered': 585, 'thereon': 586, 'did’st': 587, 'sent’st': 588, 'smells': 589, 'climes': 590, 'starry': 591, 'aspect': 592, 'thus': 593, 'mellowed': 594, 'gaudy': 595, 'denies': 596, 'had': 597, 'impaired': 598, 'nameless': 599, 'waves': 600, 'raven': 601, 'tress': 602, 'softly': 603, 'lightens': 604, 'serenely': 605, 'express': 606, 'dwelling': 607, 'eloquent': 608, 'tints': 609, 'spent': 610, 'peace': 611, 'whose': 612, 'innocent': 613, 'warmed': 614, 'life’s': 615, 'early': 616, 'hours': 617, 'fingers': 618, 'oft': 619, 'robin': 620, 'comes': 621, 'build': 622, 'nest': 623, 'leafless': 624, 'bough': 625, 'robbed': 626, 'chilled': 627, 'shadows': 628, 'furrows': 629, 'marks': 630, 'time’s': 631, 'remorseless': 632, 'plough': 633, 'broke': 634, 'blooming': 635, 'sward': 636, 'youth': 637, 'fled': 638, 'girlish': 639, 'lover’s': 640, 'vow': 641, 'despite': 642, 'sad': 643, 'faded': 644, 'darkened': 645, 'wasted': 646, 'echo': 647, 'mourn': 648, 'lonesome': 649, 'blessed': 650, 'atones': 651, 'bring': 652, 'burden': 653, 'strong': 654, 'nymph': 655, 'undoes': 656, 'nature': 657, 'designed': 658, \"she's\": 659, 'grief': 660, 'joy': 661, 'cause': 662, 'whence': 663, 'wit': 664, 'obligingly': 665, 'flows': 666, 'blush': 667, 'smell': 668, 'attend': 669, 'wounds': 670, 'frown': 671, 'kill': 672, 'lover': 673, 'redress': 674, 'rigour': 675, 'excess': 676, 'sylvia': 677, 'unhappy': 678, 'sees': 679, 'done': 680, 'doing': 681, 'it’s': 682, 'meant': 683, 'secret': 684, 'knows': 685, 'called': 686, 'higher': 687, 'hide': 688, 'keeping': 689, 'fever': 690, 'longing': 691, 'nurseth': 692, 'disease': 693, 'feeding': 694, 'preserve': 695, 'ill': 696, 'th’': 697, 'uncertain': 698, 'sickly': 699, 'appetite': 700, 'please': 701, 'physician': 702, 'angry': 703, 'prescriptions': 704, 'kept': 705, 'approve': 706, 'physic': 707, 'cure': 708, 'frantic': 709, 'discourse': 710, 'madmen’s': 711, 'random': 712, 'vainly': 713, 'expressed': 714, 'sworn': 715, 'hell': 716, 'they’re': 717, 'lovelight': 718, 'passionate': 719, 'flesh': 720, 'touches': 721, 'fond': 722, 'strands': 723, 'enmesh': 724, 'kisses': 725, 'against': 726, 'virgin’s': 727, 'bloodless': 728, 'saint’s': 729, 'bliss': 730, 'spotless': 731, 'dove': 732, 'laughs': 733, 'world’s': 734, 'blame': 735, 'sets': 736, 'poor': 737, 'aflame': 738, 'fragrant': 739, 'ruby': 740, 'fervor': 741, 'born': 742, 'south': 743, 'clasp': 744, 'we’ll': 745, 'joys': 746, 'living': 747, 'noon': 748, 'snowflake': 749, 'spirit': 750, 'oh': 751, 'plunge': 752, 'senses': 753, 'deaf': 754, 'swept': 755, 'taper': 756, 'rushing': 757, 'temperate': 758, 'winds': 759, 'shake': 760, 'buds': 761, 'lease': 762, 'date': 763, 'often': 764, 'complexion': 765, 'dimm’d': 766, 'declines': 767, 'chance': 768, 'untrimm’d': 769, 'possession': 770, 'ow’st': 771, 'brag': 772, 'wander’st': 773, 'lines': 774, 'grow’st': 775, 'troth': 776, 'weaned': 777, 'sucked': 778, 'country': 779, 'childishly': 780, 'snorted': 781, 'seven': 782, 'sleepers’': 783, 'den': 784, 'fancies': 785, 'desired': 786, 'got': 787, 'good': 788, 'morrow': 789, 'waking': 790, 'sights': 791, 'controls': 792, 'makes': 793, 'room': 794, 'everywhere': 795, 'discoverers': 796, 'maps': 797, 'shown': 798, 'possess': 799, 'appears': 800, 'plain': 801, 'hearts': 802, 'faces': 803, 'rest': 804, 'hemispheres': 805, 'sharp': 806, 'north': 807, 'declining': 808, 'west': 809, 'mixed': 810, 'alike': 811, 'slacken': 812, 'catbird': 813, 'cat': 814, 'criminal': 815, 'clue': 816, 'axis': 817, 'united': 818, 'states': 819, 'duck': 820, 'swim': 821, 'grapefruit': 822, 'squirts': 823, 'gin': 824, 'rummy': 825, 'toothache': 826, 'hurts': 827, 'shipwrecked': 828, 'sailor': 829, 'juggler': 830, 'shove': 831, 'hostess': 832, 'detests': 833, 'unexpected': 834, 'guests': 835, 'wasp': 836, 'sting': 837, 'subway': 838, 'jerks': 839, 'beggar': 840, 'crutch': 841, 'hangnail': 842, 'irks': 843, 'court': 844, 'loathes': 845, 'perjurious': 846, 'oathes': 847, 'wouldn’t': 848, 'weren’t': 849, 'inevitably': 850, 'there’s': 851, 'fact': 852, 'who’ve': 853, 'written': 854, 'thinking': 855, 'memories': 856, 'three': 857, 'syllable': 858, 'unaccountable': 859, 'naturally': 860, 'vacuum': 861, 'cleaner': 862, 'breathing': 863, 'dust': 864, 'ford': 865, 'cortina': 866, 'rust': 867, 'pot': 868, 'call': 869, 'shots': 870, 'raincoat': 871, 'frequent': 872, 'rainy': 873, 'dreamboat': 874, 'teddy': 875, 'bear': 876, 'meter': 877, 'heater': 878, 'you’ll': 879, 'get': 880, 'setting': 881, 'lotion': 882, 'atlantic': 883, 'taught': 884, 'consist': 885, 'outward': 886, 'direction': 887, 'appreciate': 888, 'seem': 889, 'indelicate': 890, 'shower': 891, 'soap': 892, 'power': 893, 'dilate': 894, 'scour': 895, 'parts': 896, 'lubricate': 897, 'screaming': 898, 'cower': 899, 'asking': 900, 'differentiate': 901, 'nietzsche': 902, 'schopenhauer': 903, 'successfully': 904, 'guess': 905, 'féte': 906, 'vans': 907, 'fanclub': 908, 'fans': 909, 'walking': 910, 'holding': 911, 'paintstained': 912, 'fish': 913, 'chips': 914, 'nights': 915, 'blankets': 916, 'full': 917, 'strange': 918, 'presents': 919, 'christmas': 920, 'shops': 921, 'top': 922, 'pops': 923, 'happens': 924, 'stops': 925, 'panties': 926, 'lying': 927, 'forlorn': 928, 'nightdresses': 929, 'slightly': 930, 'prison': 931, 'what’s': 932, 'mistress’': 933, 'coral': 934, 'lips’': 935, 'why': 936, 'dun': 937, 'hairs': 938, 'grow': 939, 'damask’d': 940, 'perfumes': 941, 'delight': 942, 'reeks': 943, 'speak': 944, 'pleasing': 945, 'sound': 946, 'grant': 947, 'goddess': 948, 'treads': 949, 'ground': 950, 'rare': 951, 'belied': 952, 'false': 953, 'honor': 954, 'safe': 955, 'miss': 956, 'awe': 957, 'lay': 958, 'rationed': 959, 'sleeping': 960, 'soundly': 961, 'cope': 962, 'sleep': 963, 'alive': 964, 'exist': 965, 'beyond': 966, 'million': 967, 'save': 968, 'listen': 969, 'attentively': 970, 'promise': 971, 'shed': 972, 'tear': 973, 'real': 974, 'lord': 975, 'allowing': 976, 'crystal': 977, 'branch': 978, 'slow': 979, 'impalpable': 980, 'ash': 981, 'wrinkled': 982, 'log': 983, 'aromas': 984, 'metals': 985, 'boats': 986, 'toward': 987, 'isles': 988, 'wait': 989, 'already': 990, 'banners': 991, 'decide': 992, 'shore': 993, 'remember': 994, 'lift': 995, 'set': 996, 'land': 997, 'destined': 998, 'implacable': 999, 'sweetness': 1000, 'climbs': 1001, 'repeated': 1002, 'extinguished': 1003, 'feeds': 1004, 'leaving': 1005, 'comprehend': 1006, 'friend': 1007, \"wouldn't\": 1008, 'rush': 1009, 'explore': 1010, 'ignore': 1011, 'times': 1012, 'spend': 1013, 'comfortable': 1014, 'alone': 1015, 'shared': 1016, 'secrets': 1017, 'uncover': 1018, 'discover': 1019, 'dumb': 1020, 'smart': 1021, 'anyway': 1022, 'start': 1023, 'tall': 1024, 'ugly': 1025, 'dork': 1026, 'toothless': 1027, 'anything': 1028, 'wrong': 1029, \"you'll\": 1030, 'fine': 1031, 'opening': 1032, 'used': 1033, 'tomorrow': 1034, 'lot': 1035, 'takes': 1036, 'unconditional': 1037, 'side': 1038, 'protect': 1039, 'cherish': 1040, 'possible': 1041, 'everlasting': 1042, 'sunrise': 1043, 'opens': 1044, 'cloudy': 1045, 'laughter': 1046, 'butterflies': 1047, 'greets': 1048, 'gorgeous': 1049, 'toes': 1050, 'mark': 1051, 'saying': 1052, 'goodbye': 1053, 'gentle': 1054, 'elegantly': 1055, 'astonished': 1056, 'stare': 1057, 'cover': 1058, 'child': 1059, 'blossoms': 1060, 'kindly': 1061, 'accepting': 1062, 'thorn': 1063, 'endear': 1064, 'value': 1065, 'show': 1066, 'songs': 1067, 'lullabies': 1068, 'touched': 1069, 'flew': 1070, 'said': 1071, 'built': 1072, 'lie': 1073, 'told': 1074, 'surely': 1075, 'flare': 1076, 'foes': 1077, 'behind': 1078, \"river's\": 1079, 'pierce': 1080, 'strongest': 1081, 'vault': 1082, 'coal': 1083, 'tame': 1084, 'balmy': 1085, 'quite': 1086, 'passed': 1087, 'people': 1088, 'criticize': 1089, 'very': 1090, 'flies': 1091, 'rejection': 1092, 'stopping': 1093, 'waste': 1094, '9': 1095, 'lately': 1096, 'kind': 1097, 'crazy': 1098, 'denying': 1099, 'baby': 1100, 'friends': 1101, 'confide': 1102, 'someone': 1103, 'depend': 1104, 'gets': 1105, \"aren't\": 1106, 'enough': 1107, 'cant': 1108, 'describe': 1109, 'disagree': 1110, 'loosen': 1111, 'cuffs': 1112, 'smiling': 1113, 'tonight': 1114, 'match': 1115, 'style': 1116, 'spreads': 1117, 'making': 1118, 'walk': 1119, 'paths': 1120, 'unknown': 1121, 'filled': 1122, 'excitement': 1123, 'winding': 1124, 'happiness': 1125, 'constant': 1126, 'bursting': 1127, 'resplendent': 1128, 'hues': 1129, 'birds': 1130, 'soaring': 1131, 'inviting': 1132, 'hum': 1133, 'rules': 1134, 'travel': 1135, 'traces': 1136, 'sitting': 1137, 'beginning': 1138, 'continues': 1139, 'universe': 1140, 'fill': 1141, 'mysterious': 1142, 'extending': 1143, 'anemone': 1144, 'petals': 1145, 'smooth—nor': 1146, 'remote': 1147, 'carrot': 1148, 'taking': 1149, 'thefield': 1150, 'force': 1151, 'grass': 1152, 'raise': 1153, 'question': 1154, 'mole': 1155, 'center': 1156, 'hand’s': 1157, 'span': 1158, 'wherever': 1159, 'lain': 1160, 'tiny': 1161, 'blossom': 1162, 'under': 1163, 'fibres': 1164, 'empty': 1165, 'cluster': 1166, 'pious': 1167, 'over—': 1168, 'sheriff': 1169, 'walnut': 1170, 'solve': 1171, 'murder': 1172, 'case': 1173, 'unsolved': 1174, 'murderer': 1175, 'beside': 1176, 'he': 1177, 'connecting': 1178, 'shoulders': 1179, 'laid': 1180, 'roof': 1181, 'bottle': 1182, 'kid': 1183, 'goat': 1184, 'crazier': 1185, 'shirttails': 1186, 'blows': 1187, 'big': 1188, 'shiny': 1189, 'bicycling': 1190, 'across': 1191, 'africa': 1192, 'green': 1193, 'fields': 1194, 'i’m': 1195, 'swims': 1196, 'trustworthy': 1197, 'sidewalk': 1198, 'harmony': 1199, 'sunlight': 1200, 'prow': 1201, 'ship': 1202, 'sails': 1203, 'hartford': 1204, 'miami': 1205, 'before': 1206, 'receives': 1207, 'questions': 1208, 'learned': 1209, 'fairy': 1210, 'tale': 1211, 'valentine': 1212, '’tis': 1213, 'woe': 1214, 'string': 1215, 'coloured': 1216, 'beads': 1217, 'leading': 1218, 'resign': 1219, 'ripe': 1220, 'plum': 1221, 'taste': 1222, 'spell': 1223, 'enchantment': 1224, 'glowing': 1225, 'southern': 1226, 'burning': 1227, 'mountain': 1228, 'stark': 1229, 'windy': 1230, 'climb': 1231, 'cannot': 1232, 'arched': 1233, 'bone': 1234, 'support': 1235, 'rises': 1236, 'doubled': 1237, 'nipples': 1238, 'sockets': 1239, 'flown': 1240, 'wide': 1241, 'fruit': 1242, 'tresses': 1243, 'walked': 1244, 'found': 1245, 'burns': 1246, 'bake': 1247, 'lump': 1248, 'molded': 1249, 'mix': 1250, 'water': 1251, 'mold': 1252, 'quilt': 1253, 'salt': 1254, 'topaz': 1255, 'arrow': 1256, 'carnations': 1257, 'propagate': 1258, 'certain': 1259, 'obscure': 1260, 'secretly': 1261, 'between': 1262, 'shadow': 1263, 'plant': 1264, 'doesn’t': 1265, 'bloom': 1266, 'flowers': 1267, 'hidden': 1268, 'within': 1269, 'thanks': 1270, 'aroma': 1271, 'arose': 1272, 'dimly': 1273, 'knowing': 1274, 'directly': 1275, 'problems': 1276, 'pride': 1277, 'form': 1278, 'chest': 1279, 'crave': 1280, 'silent': 1281, 'starving': 1282, 'prowl': 1283, 'streets': 1284, 'bread': 1285, 'nourish': 1286, 'disrupts': 1287, 'hunt': 1288, 'liquid': 1289, 'sleek': 1290, 'laugh': 1291, 'color': 1292, 'savage': 1293, 'harvest': 1294, 'stones': 1295, 'fingernails': 1296, 'almond': 1297, 'sunbeam': 1298, 'flaring': 1299, 'sovereign': 1300, 'nose': 1301, 'arrogant': 1302, 'fleeting': 1303, 'lashes': 1304, 'pace': 1305, 'hungry': 1306, 'sniffing': 1307, 'twilight': 1308, 'hunting': 1309, 'puma': 1310, 'barrens': 1311, 'quitratue': 1312, 'waver': 1313, 'dew': 1314, 'impetuous': 1315, 'rain': 1316, 'tan': 1317, 'purr': 1318, 'murmuring': 1319, 'speech': 1320, 'hill': 1321, 'slim': 1322, 'expressive': 1323, 'poise': 1324, 'sculptor': 1325, 'caught': 1326, 'nuances': 1327, 'spoken': 1328, 'shoulder': 1329, 'repass': 1330, 'moods': 1331, 'many': 1332, 'delicate': 1333, 'flimmering': 1334, 'o': 1335, 'goes': 1336, 'film': 1337, 'memoried': 1338, 'moves': 1339, 'hate': 1340, 'deeply': 1341, 'hating': 1342, 'bend': 1343, 'blindly': 1344, 'maybe': 1345, 'january': 1346, 'consume': 1347, 'cruel': 1348, 'stealing': 1349, 'key': 1350, 'part': 1351, 'blood': 1352, 'nought': 1353, 'speaking': 1354, 'gently': 1355, 'trick': 1356, 'falls': 1357, 'certes': 1358, 'brought': 1359, 'sense': 1360, 'pleasant': 1361, \"day'—\": 1362, 'these': 1363, 'themselves': 1364, 'changed': 1365, '—and': 1366, 'wrought': 1367, 'unwrought': 1368, \"pity's\": 1369, 'wiping': 1370, '—': 1371, 'creature': 1372, 'weep': 1373, 'comfort': 1374, 'thereby': 1375, \"may'st\": 1376, 'eternity': 1377}\n",
      "1378\n"
     ]
    }
   ],
   "source": [
    "tokenizer.fit_on_texts(corpus)\n",
    "total_words = len(tokenizer.word_index) +1\n",
    "\n",
    "print(tokenizer.word_index)\n",
    "print(total_words)"
   ]
  },
  {
   "cell_type": "code",
   "execution_count": 5,
   "metadata": {},
   "outputs": [],
   "source": [
    "input_sequences = []\n",
    "for line in corpus:\n",
    "    token_list = tokenizer.texts_to_sequences([line])[0]\n",
    "    for i in range(1, len(token_list)):\n",
    "        n_gram_sequence = token_list[:i+1]\n",
    "        input_sequences.append(n_gram_sequence)\n",
    "\n",
    "# pad sequences \n",
    "max_sequence_len = max([len(x) for x in input_sequences])\n",
    "input_sequences = np.array(pad_sequences(input_sequences, maxlen=max_sequence_len, padding='pre'))\n",
    "\n",
    "# create predictors and label\n",
    "xs, labels = input_sequences[:,:-1],input_sequences[:,-1]\n",
    "ys = tf.keras.utils.to_categorical(labels, num_classes=total_words)\n"
   ]
  },
  {
   "cell_type": "code",
   "execution_count": 6,
   "metadata": {},
   "outputs": [
    {
     "name": "stdout",
     "output_type": "stream",
     "text": [
      "333\n",
      "7\n",
      "12\n",
      "53\n",
      "16\n",
      "151\n",
      "27\n"
     ]
    }
   ],
   "source": [
    "print(tokenizer.word_index['drink'])\n",
    "print(tokenizer.word_index['to'])\n",
    "print(tokenizer.word_index['me'])\n",
    "print(tokenizer.word_index['only'])\n",
    "print(tokenizer.word_index['with'])\n",
    "print(tokenizer.word_index['thine'])\n",
    "print(tokenizer.word_index['eyes'])"
   ]
  },
  {
   "cell_type": "code",
   "execution_count": 7,
   "metadata": {},
   "outputs": [
    {
     "name": "stdout",
     "output_type": "stream",
     "text": [
      "[ 0  0  0  0  0  0  0  0  0  0  0  0  0  0  0  8  4 13 45]\n",
      "[0. 0. 0. ... 0. 0. 0.]\n"
     ]
    }
   ],
   "source": [
    "print(xs[5])\n",
    "print(ys[5])"
   ]
  },
  {
   "cell_type": "code",
   "execution_count": 8,
   "metadata": {},
   "outputs": [
    {
     "name": "stderr",
     "output_type": "stream",
     "text": [
      "Using TensorFlow backend.\n"
     ]
    }
   ],
   "source": [
    "from keras.callbacks import EarlyStopping"
   ]
  },
  {
   "cell_type": "code",
   "execution_count": 9,
   "metadata": {},
   "outputs": [
    {
     "name": "stdout",
     "output_type": "stream",
     "text": [
      "WARNING:tensorflow:From C:\\Users\\Abhishek Mohanty\\Anaconda3\\lib\\site-packages\\tensorflow\\python\\ops\\resource_variable_ops.py:435: colocate_with (from tensorflow.python.framework.ops) is deprecated and will be removed in a future version.\n",
      "Instructions for updating:\n",
      "Colocations handled automatically by placer.\n",
      "WARNING:tensorflow:From C:\\Users\\Abhishek Mohanty\\Anaconda3\\lib\\site-packages\\tensorflow\\python\\ops\\math_ops.py:3066: to_int32 (from tensorflow.python.ops.math_ops) is deprecated and will be removed in a future version.\n",
      "Instructions for updating:\n",
      "Use tf.cast instead.\n",
      "Epoch 1/20\n",
      "4722/4722 [==============================] - 29s 6ms/sample - loss: 6.4290 - acc: 0.0322\n",
      "Epoch 2/20\n",
      "4722/4722 [==============================] - 26s 5ms/sample - loss: 5.5604 - acc: 0.0858\n",
      "Epoch 3/20\n",
      "4722/4722 [==============================] - 26s 5ms/sample - loss: 4.7310 - acc: 0.1508\n",
      "Epoch 4/20\n",
      "4722/4722 [==============================] - 27s 6ms/sample - loss: 3.8290 - acc: 0.2302\n",
      "Epoch 5/20\n",
      "4722/4722 [==============================] - 27s 6ms/sample - loss: 2.8879 - acc: 0.3492\n",
      "Epoch 6/20\n",
      "4722/4722 [==============================] - 26s 5ms/sample - loss: 2.0708 - acc: 0.5059\n",
      "Epoch 7/20\n",
      "4722/4722 [==============================] - 30s 6ms/sample - loss: 1.5027 - acc: 0.6362\n",
      "Epoch 8/20\n",
      "4722/4722 [==============================] - 30s 6ms/sample - loss: 1.1063 - acc: 0.7287\n",
      "Epoch 9/20\n",
      "4722/4722 [==============================] - 26s 6ms/sample - loss: 0.8680 - acc: 0.7893\n",
      "Epoch 10/20\n",
      "4722/4722 [==============================] - 25s 5ms/sample - loss: 0.7454 - acc: 0.8166\n",
      "Epoch 11/20\n",
      "4722/4722 [==============================] - 27s 6ms/sample - loss: 0.6707 - acc: 0.8308\n",
      "Epoch 12/20\n",
      "4722/4722 [==============================] - 30s 6ms/sample - loss: 0.6307 - acc: 0.8397\n",
      "Epoch 13/20\n",
      "4722/4722 [==============================] - 27s 6ms/sample - loss: 0.5991 - acc: 0.8410\n",
      "Epoch 14/20\n",
      "4722/4722 [==============================] - 26s 6ms/sample - loss: 0.5775 - acc: 0.8384\n",
      "Epoch 15/20\n",
      "4722/4722 [==============================] - 28s 6ms/sample - loss: 0.5684 - acc: 0.8422\n",
      "Epoch 16/20\n",
      "4722/4722 [==============================] - 26s 6ms/sample - loss: 0.5694 - acc: 0.8369\n",
      "Epoch 17/20\n",
      "4722/4722 [==============================] - 29s 6ms/sample - loss: 0.5515 - acc: 0.8448\n",
      "Epoch 18/20\n",
      "4722/4722 [==============================] - 26s 5ms/sample - loss: 0.5511 - acc: 0.8416\n",
      "Epoch 19/20\n",
      "4722/4722 [==============================] - 28s 6ms/sample - loss: 0.5421 - acc: 0.8416\n",
      "Epoch 20/20\n",
      "4722/4722 [==============================] - 27s 6ms/sample - loss: 0.5537 - acc: 0.8365\n",
      "<tensorflow.python.keras.engine.sequential.Sequential object at 0x0000023ED26BA358>\n"
     ]
    }
   ],
   "source": [
    "model = Sequential()\n",
    "model.add(Embedding(total_words, 100, input_length=max_sequence_len-1))\n",
    "model.add(Bidirectional(LSTM(150)))\n",
    "model.add(Dense(total_words, activation='softmax'))\n",
    "adam = Adam(lr=0.01)\n",
    "model.compile(loss='categorical_crossentropy', optimizer=adam, metrics=['accuracy'])\n",
    "earlystop = EarlyStopping(monitor='val_loss', min_delta=0, patience=5, verbose=0, mode='auto')\n",
    "history = model.fit(xs, ys, epochs=20, verbose=1)\n",
    "print(model)"
   ]
  },
  {
   "cell_type": "code",
   "execution_count": 10,
   "metadata": {},
   "outputs": [],
   "source": [
    "import matplotlib.pyplot as plt\n",
    "\n",
    "\n",
    "def plot_graphs(history, string):\n",
    "  plt.plot(history.history[string])\n",
    "  plt.xlabel(\"Epochs\")\n",
    "  plt.ylabel(string)\n",
    "  plt.show()"
   ]
  },
  {
   "cell_type": "code",
   "execution_count": 11,
   "metadata": {},
   "outputs": [
    {
     "data": {
      "image/png": "[encoded data removed]",
      "text/plain": [
       "<Figure size 432x288 with 1 Axes>"
      ]
     },
     "metadata": {
      "needs_background": "light"
     },
     "output_type": "display_data"
    }
   ],
   "source": [
    "plot_graphs(history, 'acc')"
   ]
  },
  {
   "cell_type": "code",
   "execution_count": 18,
   "metadata": {},
   "outputs": [
    {
     "name": "stdout",
     "output_type": "stream",
     "text": [
      "It could not withered be all they support you without feeling great about you care how when to your eyes dilate the light of me tonight to take me off this off to take me off to take me off this earth earth earth earth take we arms and night style last me take me beat from this i'd hear her\n"
     ]
    }
   ],
   "source": [
    "seed_text = \"It\"\n",
    "next_words = 60\n",
    "  \n",
    "for _ in range(next_words):\n",
    "    token_list = tokenizer.texts_to_sequences([seed_text])[0]\n",
    "    token_list = pad_sequences([token_list], maxlen=max_sequence_len-1, padding='pre')\n",
    "    predicted = model.predict_classes(token_list, verbose=0)\n",
    "    output_word = \"\"\n",
    "    for word, index in tokenizer.word_index.items():\n",
    "        if index == predicted:\n",
    "            output_word = word\n",
    "            break\n",
    "    seed_text += \" \" + output_word\n",
    "print(seed_text)"
   ]
  },
  {
   "cell_type": "code",
   "execution_count": null,
   "metadata": {},
   "outputs": [],
   "source": []
  }
 ],
 "metadata": {
  "kernelspec": {
   "display_name": "Python 3",
   "language": "python",
   "name": "python3"
  },
  "language_info": {
   "codemirror_mode": {
    "name": "ipython",
    "version": 3
   },
   "file_extension": ".py",
   "mimetype": "text/x-python",
   "name": "python",
   "nbconvert_exporter": "python",
   "pygments_lexer": "ipython3",
   "version": "3.6.4"
  }
 },
 "nbformat": 4,
 "nbformat_minor": 2
}
