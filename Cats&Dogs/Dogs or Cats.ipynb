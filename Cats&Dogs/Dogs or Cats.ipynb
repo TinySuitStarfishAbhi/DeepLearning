{
 "cells": [
  {
   "cell_type": "code",
   "execution_count": 2,
   "metadata": {},
   "outputs": [
    {
     "name": "stderr",
     "output_type": "stream",
     "text": [
      "C:\\Users\\Abhishek Mohanty\\Anaconda3\\lib\\site-packages\\h5py\\__init__.py:36: FutureWarning: Conversion of the second argument of issubdtype from `float` to `np.floating` is deprecated. In future, it will be treated as `np.float64 == np.dtype(float).type`.\n",
      "  from ._conv import register_converters as _register_converters\n",
      "Using TensorFlow backend.\n"
     ]
    }
   ],
   "source": [
    "# Importing necessary libraries and stuff\n",
    "# (Note: some commented out lines show I import a lot that isn't required here in this code, just a force of bad habit)\n",
    "import os, cv2\n",
    "import numpy as np\n",
    "import pandas as pd\n",
    "import matplotlib.pyplot as plt\n",
    "# from keras.preprocessing.image import ImageDataGenerator\n",
    "# from keras.preprocessing.image import img_to_array, load_img\n",
    "from keras import layers, models, optimizers\n",
    "# from keras import backend as K\n",
    "# from sklearn.model_selection import train_test_split\n",
    "from tensorflow.keras.models import Sequential\n",
    "from tensorflow.keras.layers import Dense, Flatten, Dropout, Activation, Conv2D, MaxPooling2D"
   ]
  },
  {
   "cell_type": "code",
   "execution_count": 3,
   "metadata": {},
   "outputs": [
    {
     "data": {
      "image/png": "[encoded data removed]",
      "text/plain": [
       "<Figure size 432x288 with 1 Axes>"
      ]
     },
     "metadata": {
      "needs_background": "light"
     },
     "output_type": "display_data"
    }
   ],
   "source": [
    "# Taking the image data and converting it so that the model can process it.\n",
    "main_dir = \"F:/AI Mini Projects/DL Projects/2) Doggo vs Catto/\"\n",
    "train_dir = \"F:/AI Mini Projects/DL Projects/2) Doggo vs Catto/training_set\"\n",
    "path = os.path.join(main_dir,train_dir)\n",
    "\n",
    "for p in os.listdir(path):\n",
    "    category = p.split(\".\")[0]\n",
    "    img_array = cv2.imread(os.path.join(path,p),cv2.IMREAD_GRAYSCALE)\n",
    "    new_img_array = cv2.resize(img_array, dsize=(80, 80))\n",
    "    plt.imshow(new_img_array,cmap=\"gray\")\n",
    "    break\n",
    "    # break above means only 1 image is displayed, remove to show all"
   ]
  },
  {
   "cell_type": "code",
   "execution_count": 4,
   "metadata": {},
   "outputs": [],
   "source": [
    "\"\"\"\n",
    "Declaring training array X and target array y. \n",
    "Here X will be the array of pixels and y will be value 0 or 1 indicating its a dog or cat.\n",
    "Writing a convert function to map category \"dog\" or \"cat\" into 1 and 0.\n",
    "Thereafter, \n",
    "Creating a function create_test_data which takes all training images into a loop, \n",
    "Converts into image array.\n",
    "Resize image into 80 X80. \n",
    "Append image into X array. \n",
    "Append category value into y array.\n",
    "\"\"\"\n",
    "\n",
    "X = []\n",
    "y = []\n",
    "convert = lambda category : int(category == 'dog')\n",
    "def create_test_data(path):\n",
    "    for p in os.listdir(path):\n",
    "        category = p.split(\".\")[0]\n",
    "        category = convert(category)\n",
    "        img_array = cv2.imread(os.path.join(path,p),cv2.IMREAD_GRAYSCALE)\n",
    "        new_img_array = cv2.resize(img_array, dsize=(80, 80))\n",
    "        X.append(new_img_array)\n",
    "        y.append(category)"
   ]
  },
  {
   "cell_type": "code",
   "execution_count": 5,
   "metadata": {},
   "outputs": [],
   "source": [
    "# Resizing X \n",
    "create_test_data(path)\n",
    "X = np.array(X).reshape(-1, 80,80,1)\n",
    "y = np.array(y)"
   ]
  },
  {
   "cell_type": "code",
   "execution_count": 6,
   "metadata": {},
   "outputs": [],
   "source": [
    "#Normalize data\n",
    "X = X/255.0"
   ]
  },
  {
   "cell_type": "code",
   "execution_count": 7,
   "metadata": {},
   "outputs": [
    {
     "name": "stdout",
     "output_type": "stream",
     "text": [
      "WARNING:tensorflow:From C:\\Users\\Abhishek Mohanty\\Anaconda3\\lib\\site-packages\\tensorflow\\python\\ops\\resource_variable_ops.py:435: colocate_with (from tensorflow.python.framework.ops) is deprecated and will be removed in a future version.\n",
      "Instructions for updating:\n",
      "Colocations handled automatically by placer.\n"
     ]
    }
   ],
   "source": [
    "# FINALLY!!!!! TIME TO TRAIN THE MODEL YAY!\n",
    "model = Sequential()\n",
    "# Adds a densely-connected layer with 64 units to the model:\n",
    "model.add(Conv2D(64,(3,3), activation = 'relu', input_shape = X.shape[1:]))\n",
    "model.add(MaxPooling2D(pool_size = (2,2)))\n",
    "# Add another:\n",
    "model.add(Conv2D(64,(3,3), activation = 'relu'))\n",
    "model.add(MaxPooling2D(pool_size = (2,2)))\n",
    "\n",
    "model.add(Flatten())\n",
    "model.add(Dense(64, activation='relu'))\n",
    "# Add a softmax layer with 10 output units:\n",
    "model.add(Dense(1, activation='sigmoid'))\n",
    "\n",
    "model.compile(optimizer=\"adam\",\n",
    "              loss='binary_crossentropy',\n",
    "              metrics=['accuracy'])"
   ]
  },
  {
   "cell_type": "code",
   "execution_count": 8,
   "metadata": {},
   "outputs": [
    {
     "name": "stdout",
     "output_type": "stream",
     "text": [
      "Train on 6404 samples, validate on 1601 samples\n",
      "WARNING:tensorflow:From C:\\Users\\Abhishek Mohanty\\Anaconda3\\lib\\site-packages\\tensorflow\\python\\ops\\math_ops.py:3066: to_int32 (from tensorflow.python.ops.math_ops) is deprecated and will be removed in a future version.\n",
      "Instructions for updating:\n",
      "Use tf.cast instead.\n",
      "Epoch 1/10\n",
      "6404/6404 [==============================] - 99s 15ms/sample - loss: 0.6405 - acc: 0.6385 - val_loss: 0.8589 - val_acc: 0.3966\n",
      "Epoch 2/10\n",
      "6404/6404 [==============================] - 98s 15ms/sample - loss: 0.5742 - acc: 0.7024 - val_loss: 0.7246 - val_acc: 0.5528\n",
      "Epoch 3/10\n",
      "6404/6404 [==============================] - 98s 15ms/sample - loss: 0.5173 - acc: 0.7456 - val_loss: 0.7372 - val_acc: 0.5921\n",
      "Epoch 4/10\n",
      "6404/6404 [==============================] - 99s 15ms/sample - loss: 0.4564 - acc: 0.7783 - val_loss: 0.6552 - val_acc: 0.6708\n",
      "Epoch 5/10\n",
      "6404/6404 [==============================] - 98s 15ms/sample - loss: 0.4087 - acc: 0.8151 - val_loss: 1.3312 - val_acc: 0.3723\n",
      "Epoch 6/10\n",
      "6404/6404 [==============================] - 98s 15ms/sample - loss: 0.3524 - acc: 0.8404 - val_loss: 0.9928 - val_acc: 0.5778\n",
      "Epoch 7/10\n",
      "6404/6404 [==============================] - 99s 15ms/sample - loss: 0.2879 - acc: 0.8730 - val_loss: 0.8485 - val_acc: 0.6683\n",
      "Epoch 8/10\n",
      "6404/6404 [==============================] - 99s 15ms/sample - loss: 0.2332 - acc: 0.9018 - val_loss: 0.5548 - val_acc: 0.7845\n",
      "Epoch 9/10\n",
      "6404/6404 [==============================] - 98s 15ms/sample - loss: 0.1601 - acc: 0.9394 - val_loss: 0.8256 - val_acc: 0.7252\n",
      "Epoch 10/10\n",
      "6404/6404 [==============================] - 99s 15ms/sample - loss: 0.1029 - acc: 0.9669 - val_loss: 1.2635 - val_acc: 0.6777\n"
     ]
    },
    {
     "data": {
      "text/plain": [
       "<tensorflow.python.keras.callbacks.History at 0x1e5441742e8>"
      ]
     },
     "execution_count": 8,
     "metadata": {},
     "output_type": "execute_result"
    }
   ],
   "source": [
    "# Fitting the created model with the training data\n",
    "model.fit(X, y, epochs=10, batch_size=32, validation_split=0.2)"
   ]
  },
  {
   "cell_type": "code",
   "execution_count": 9,
   "metadata": {},
   "outputs": [],
   "source": [
    "# Processing the test data similar to the training data \n",
    "train_dir1 = \"F:/AI Mini Projects/DL Projects/2) Doggo vs Catto/test_set\"\n",
    "path = os.path.join(main_dir,train_dir1)\n",
    "#os.listdir(path)\n",
    "\n",
    "X_test = []\n",
    "id_line = []\n",
    "def create_test1_data(path):\n",
    "    for p in os.listdir(path):\n",
    "        id_line.append(p.split(\".\")[0])\n",
    "        img_array = cv2.imread(os.path.join(path,p),cv2.IMREAD_GRAYSCALE)\n",
    "        new_img_array = cv2.resize(img_array, dsize=(80, 80))\n",
    "        X_test.append(new_img_array)\n",
    "create_test1_data(path)\n",
    "X_test = np.array(X_test).reshape(-1,80,80,1)\n",
    "X_test = X_test/255"
   ]
  },
  {
   "cell_type": "code",
   "execution_count": 10,
   "metadata": {},
   "outputs": [],
   "source": [
    "# PREDICTION TIME!\n",
    "predictions = model.predict(X_test)"
   ]
  },
  {
   "cell_type": "code",
   "execution_count": 11,
   "metadata": {},
   "outputs": [],
   "source": [
    "# Rounding off the acquired results since we used a sigmoid function that gave us probabilites.\n",
    "# This line can be removed if you want to know exactly what prob the model predicts our test data for\n",
    "predicted_val = [int(round(p[0])) for p in predictions]"
   ]
  },
  {
   "cell_type": "code",
   "execution_count": null,
   "metadata": {},
   "outputs": [],
   "source": []
  }
 ],
 "metadata": {
  "kernelspec": {
   "display_name": "Python 3",
   "language": "python",
   "name": "python3"
  },
  "language_info": {
   "codemirror_mode": {
    "name": "ipython",
    "version": 3
   },
   "file_extension": ".py",
   "mimetype": "text/x-python",
   "name": "python",
   "nbconvert_exporter": "python",
   "pygments_lexer": "ipython3",
   "version": "3.6.4"
  }
 },
 "nbformat": 4,
 "nbformat_minor": 2
}
